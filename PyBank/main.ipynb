{
 "cells": [
  {
   "cell_type": "code",
   "execution_count": 41,
   "metadata": {},
   "outputs": [
    {
     "name": "stdout",
     "output_type": "stream",
     "text": [
      "Current Working Directory:/Users/chrisbaurkot/Rutgers/Homework/python-homework/PyBank\n",
      "Total Number of Months = 86\n",
      "Profits = [867884, 984655, 322013, -69417, 310503, 522857, 1033096, 604885, -216386, 477532, 893810, -80353, 779806, -335203, 697845, 793163, 485070, 584122, 62729, 668179, 899906, 834719, 132003, 309978, -755566, 1170593, 252788, 1151518, 817256, 570757, 506702, -1022534, 475062, 779976, 144175, 542494, 359333, 321469, 67780, 471435, 565603, 872480, 789480, 999942, -1196225, 268997, -687986, 1150461, 682458, 617856, 824098, 581943, 132864, 448062, 689161, 800701, 1166643, 947333, 578668, 988505, 1139715, 1029471, 687533, -524626, 158620, 87795, 423389, 840723, 568529, 332067, 989499, 778237, 650000, -1100387, -174946, 757143, 445709, 712961, -1163797, 569899, 768450, 102685, 795914, 60988, 138230, 671099]\n"
     ]
    }
   ],
   "source": [
    "# Read file budget_data.csv\n",
    "from pathlib import Path\n",
    "import csv\n",
    "\n",
    "\n",
    "print(f\"Current Working Directory:{Path.cwd()}\")\n",
    "filepath = Path(\"./budget_data.csv\")\n",
    "\n",
    "# # * The total number of months included in the dataset.\n",
    "months = 0\n",
    "\n",
    "# variable to hold net profit/losses\n",
    "profits = []\n",
    "\n",
    "with open(filepath, \"r\") as file:\n",
    "    csvreader = csv.reader(file, delimiter=',')\n",
    "\n",
    "    header = next(csvreader)\n",
    "     \n",
    "    for row in csvreader:\n",
    "        # print(line)\n",
    "        months += 1\n",
    "\n",
    "        # make a variable to store the profit for this row in the loop\n",
    "        profit = int(row[1])\n",
    "        # print(row[1])\n",
    "        # append profit to your lists of profits\n",
    "        profits.append(profit)\n",
    "\n",
    "print(f\"Total Number of Months = {months}\")\n",
    "# print out your list of profits\n",
    "print(f\"Profits = {profits}\")\n",
    "# * The net total amount of Profit/Losses over the entire period.\n",
    "# create a new loop to sum the net profit / losses\n",
    "\n",
    "# * The average of the changes in Profit/Losses over the entire period.\n",
    "\n",
    "# * The greatest increase in profits (date and amount) over the entire period.\n",
    "\n",
    "# * The greatest decrease in losses (date and amount) over the entire period.\n",
    "\n",
    "\n",
    "# Print analysis\n",
    "\n",
    "\n",
    "# Export Text file with results"
   ]
  }
 ],
 "metadata": {
  "kernelspec": {
   "display_name": "Python 3.7.13 ('dev')",
   "language": "python",
   "name": "python3"
  },
  "language_info": {
   "codemirror_mode": {
    "name": "ipython",
    "version": 3
   },
   "file_extension": ".py",
   "mimetype": "text/x-python",
   "name": "python",
   "nbconvert_exporter": "python",
   "pygments_lexer": "ipython3",
   "version": "3.7.13"
  },
  "orig_nbformat": 4,
  "vscode": {
   "interpreter": {
    "hash": "4396f389b93e7269692bd3bea4c62813bbe379469bde939b058805f538feec11"
   }
  }
 },
 "nbformat": 4,
 "nbformat_minor": 2
}
